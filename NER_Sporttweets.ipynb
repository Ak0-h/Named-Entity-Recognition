{
 "cells": [
  {
   "cell_type": "code",
   "execution_count": 1,
   "metadata": {},
   "outputs": [],
   "source": [
    "import json\n",
    "import csv\n",
    "from sklearn.model_selection import train_test_split\n",
    "import spacy\n",
    "import random\n",
    "from spacy.training.example import Example\n",
    "from spacy.training import offsets_to_biluo_tags\n",
    "import warnings\n"
   ]
  },
  {
   "cell_type": "code",
   "execution_count": 2,
   "metadata": {},
   "outputs": [],
   "source": [
    "def load_data(file):\n",
    "    with open(file,\"r\",encoding=\"utf-8\")as f:\n",
    "        data = json.load(f)\n",
    "    return data\n",
    "\n"
   ]
  },
  {
   "cell_type": "code",
   "execution_count": 3,
   "metadata": {},
   "outputs": [],
   "source": [
    "def load_sentences(filepath):\n",
    "\n",
    "    sentences = []\n",
    "    tokens = []\n",
    "    ner_tags = []\n",
    "\n",
    "    with open(filepath, 'r') as f:\n",
    "        \n",
    "        for line in f.readlines():\n",
    "            \n",
    "            if (line == ('-DOCSTART- -X- O\\n') or line == '\\n'):\n",
    "                if len(tokens) > 0:\n",
    "                    sentences.append({'tokens': tokens, 'ner_tags': ner_tags})\n",
    "                    tokens = []\n",
    "                    ner_tags = []\n",
    "            else:\n",
    "                l = line.split(' ')\n",
    "                tokens.append(l[0])\n",
    "                ner_tags.append(l[3].strip('\\n'))\n",
    "    \n",
    "    return sentences"
   ]
  },
  {
   "cell_type": "code",
   "execution_count": 4,
   "metadata": {},
   "outputs": [],
   "source": [
    "DATA = load_data(\"/Users/abdullah/Downloads/project-1-at-2023-04-30-18-27-525c20fc.json\")\n",
    "BIO_sentences = load_sentences(\"/Users/abdullah/Downloads/project-1-at-2023-04-30-09-04-525c20fc.conll\")"
   ]
  },
  {
   "cell_type": "code",
   "execution_count": 5,
   "metadata": {},
   "outputs": [],
   "source": [
    "ner_tags_without_O = []\n",
    "for t in range(len(BIO_sentences)):\n",
    "    ner_tags = BIO_sentences[t][\"ner_tags\"]\n",
    "    ner_tags_without_O.append([tag for tag in ner_tags if tag != \"O\"])"
   ]
  },
  {
   "cell_type": "code",
   "execution_count": 6,
   "metadata": {},
   "outputs": [],
   "source": [
    "WIE_OFT_PRO_TWEET = 0"
   ]
  },
  {
   "cell_type": "code",
   "execution_count": 7,
   "metadata": {},
   "outputs": [],
   "source": [
    "def B_I_Check(tweet, e ,text, start, end, label):\n",
    "    entity = text[start:end].strip()\n",
    "    #if text.startswith(\" \"):\n",
    "     #   entity = text[start:end].strip()\n",
    "      #  start+=1\n",
    "    #if text.endswith(\" \"):\n",
    "     #   entity = text[start:end].strip()\n",
    "     #   end-=1\n",
    "    global WIE_OFT_PRO_TWEET\n",
    "    has_space = any(char.isspace() for char in entity)\n",
    "    if has_space:\n",
    "        liste_output = []\n",
    "        new_start = 0    \n",
    "        entities = entity.split()\n",
    "        laenge = len(entities)\n",
    "        new_start = start\n",
    "        \n",
    "        for w in range(laenge):\n",
    "            #print(e)\n",
    "            l = len(entities[w])\n",
    "           # print(ner_tags_without_O[tweet][e])\n",
    "            #print(entities[w],\"  \",ner_tags_without_O[tweet][e+w+WIE_OFT_PRO_TWEET])\n",
    "\n",
    "\n",
    "            liste_output.append((new_start,new_start+l,ner_tags_without_O[tweet][e+w+WIE_OFT_PRO_TWEET]))\n",
    "            #ner_tags_without_O[tweet].pop(w)\n",
    "            new_start+=(l+1)  \n",
    "        WIE_OFT_PRO_TWEET+=w    \n",
    "        return liste_output\n",
    "    else:\n",
    "       # if label != \"\" and e < len(ner_tags_without_O[tweet]):\n",
    "        #    lbl = ner_tags_without_O[tweet][e]\n",
    "         #   return[(start, end,lbl)]\n",
    "        #elif e > len(ner_tags_without_O[tweet]):\n",
    "            lbl = str(label[0])\n",
    "            return[(start, end, \"B-\"+lbl)]\n",
    "        \n",
    "        #else:\n",
    "        #    return [()]\n",
    "        \n",
    "        \n",
    "\n",
    "\n"
   ]
  },
  {
   "cell_type": "code",
   "execution_count": 8,
   "metadata": {},
   "outputs": [],
   "source": [
    "MIX_DATA = []\n",
    "keys =[\"start\",\"end\",\"labels\"]\n",
    "\n",
    "for zeile in range (len(DATA)):\n",
    "    Anzahl_entities = len(DATA[zeile][\"annotations\"][0][\"result\"])\n",
    "    text = DATA[zeile][\"data\"][\"text\"]\n",
    "    DATA[zeile][\"annotations\"][0][\"result\"] = sorted(DATA[zeile][\"annotations\"][0][\"result\"], key=lambda x: x['value']['end'])\n",
    "    dic_entities = {\"entities\":[]}\n",
    "    for i in range(Anzahl_entities):\n",
    "        \n",
    "        start = DATA[zeile][\"annotations\"][0][\"result\"][i][\"value\"][keys[0]]\n",
    "        end = DATA[zeile][\"annotations\"][0][\"result\"][i][\"value\"][keys[1]]\n",
    "        label = DATA[zeile][\"annotations\"][0][\"result\"][i][\"value\"][keys[2]]\n",
    "\n",
    "        ergebnis = B_I_Check(zeile,i,text,start,end,label)\n",
    "        for e in ergebnis:\n",
    "            dic_entities[\"entities\"].append(e)\n",
    "    WIE_OFT_PRO_TWEET = 0\n",
    "    MIX_DATA.append((text,dic_entities))\n",
    "    "
   ]
  },
  {
   "cell_type": "code",
   "execution_count": 9,
   "metadata": {},
   "outputs": [],
   "source": [
    "i = 0\n",
    "for _, annotations in MIX_DATA:\n",
    "    i+=1\n",
    "    for ent in annotations.get(\"entities\"):\n",
    "        if ent[0] == 145 and ent[1] == 150:\n",
    "            del MIX_DATA[i-1][1][\"entities\"][4]\n",
    "            break\n",
    "\n"
   ]
  },
  {
   "cell_type": "code",
   "execution_count": 10,
   "metadata": {},
   "outputs": [
    {
     "name": "stdout",
     "output_type": "stream",
     "text": [
      "38\n"
     ]
    }
   ],
   "source": [
    "i = 0\n",
    "for _, annotations in MIX_DATA:\n",
    "    i+=1\n",
    "    for ent in annotations.get(\"entities\"):\n",
    "        if ent[2] == \"B-geo.\":\n",
    "            print(i)\n",
    "\n",
    "\n",
    "    \n",
    "        "
   ]
  },
  {
   "cell_type": "code",
   "execution_count": 11,
   "metadata": {},
   "outputs": [],
   "source": [
    "newgeo =  list(MIX_DATA[37][1][\"entities\"][3])\n",
    "newgeo[2] =  \"I-Verein\"\n",
    "MIX_DATA[37][1][\"entities\"][3] = tuple(newgeo)"
   ]
  },
  {
   "cell_type": "code",
   "execution_count": 12,
   "metadata": {},
   "outputs": [
    {
     "data": {
      "text/plain": [
       "('Today we look at striker Robert Lewandowski who plays for FC Barcelona. What do you think of this player?',\n",
       " {'entities': [(25, 31, 'B-SpName'),\n",
       "   (32, 43, 'I-SpName'),\n",
       "   (58, 60, 'B-Verein'),\n",
       "   (61, 70, 'I-Verein')]})"
      ]
     },
     "execution_count": 12,
     "metadata": {},
     "output_type": "execute_result"
    }
   ],
   "source": [
    "MIX_DATA[1]"
   ]
  },
  {
   "cell_type": "code",
   "execution_count": 13,
   "metadata": {},
   "outputs": [],
   "source": [
    "kein_inhalt = [(\"In my  City, Burger King (@BurgerKingArg) launched an ingenious campaign that successfully resulted in the different ingredients of its burgers trending nationally.\", \n",
    "                {'entities': []})\n",
    "]"
   ]
  },
  {
   "cell_type": "code",
   "execution_count": 14,
   "metadata": {},
   "outputs": [],
   "source": [
    "MIX_DATA.append(kein_inhalt[0])"
   ]
  },
  {
   "cell_type": "code",
   "execution_count": 15,
   "metadata": {},
   "outputs": [
    {
     "data": {
      "text/plain": [
       "('In my  City, Burger King (@BurgerKingArg) launched an ingenious campaign that successfully resulted in the different ingredients of its burgers trending nationally.',\n",
       " {'entities': []})"
      ]
     },
     "execution_count": 15,
     "metadata": {},
     "output_type": "execute_result"
    }
   ],
   "source": [
    "MIX_DATA[199]"
   ]
  },
  {
   "cell_type": "code",
   "execution_count": 16,
   "metadata": {},
   "outputs": [],
   "source": [
    "with open('prepro_DATA.txt', 'w', newline='') as file:\n",
    "    writer = csv.writer(file)\n",
    "    writer.writerow(MIX_DATA)"
   ]
  },
  {
   "cell_type": "code",
   "execution_count": null,
   "metadata": {},
   "outputs": [],
   "source": []
  },
  {
   "cell_type": "code",
   "execution_count": 17,
   "metadata": {},
   "outputs": [],
   "source": [
    "\n",
    "# train_data, test_data = train_test_split(MIX_DATA, test_size=0.25, random_state=42,shuffle=True)\n",
    "# with open('prepro_DATA_test.txt', 'w', newline='') as file:\n",
    "#     writer = csv.writer(file)\n",
    "#     writer.writerow(test_data)"
   ]
  },
  {
   "attachments": {},
   "cell_type": "markdown",
   "metadata": {},
   "source": [
    "### Training\n"
   ]
  },
  {
   "cell_type": "code",
   "execution_count": 18,
   "metadata": {},
   "outputs": [
    {
     "name": "stderr",
     "output_type": "stream",
     "text": [
      "/Library/Frameworks/Python.framework/Versions/3.10/lib/python3.10/site-packages/spacy/training/iob_utils.py:149: UserWarning: [W030] Some entities could not be aligned in the text \"It’s 30 Premier League goals for Erling Haaland on...\" with entities \"[(32, 38, 'B-SpName'), (39, 46, 'I-SpName'), (71, ...\". Use `spacy.training.offsets_to_biluo_tags(nlp.make_doc(text), entities)` to check the alignment. Misaligned entities ('-') will be ignored during training.\n",
      "  warnings.warn(\n",
      "/Library/Frameworks/Python.framework/Versions/3.10/lib/python3.10/site-packages/spacy/training/iob_utils.py:149: UserWarning: [W030] Some entities could not be aligned in the text \"UCL: SCHALKE 1(RAUL) - 1 INTER (THIAGO MOTTA); TOT...\" with entities \"[(5, 12, 'B-Verein'), (15, 19, 'B-SpName'), (25, 3...\". Use `spacy.training.offsets_to_biluo_tags(nlp.make_doc(text), entities)` to check the alignment. Misaligned entities ('-') will be ignored during training.\n",
      "  warnings.warn(\n",
      "/Library/Frameworks/Python.framework/Versions/3.10/lib/python3.10/site-packages/spacy/training/iob_utils.py:149: UserWarning: [W030] Some entities could not be aligned in the text \"Marquinhos on his 400th game as PSG player: “PSG a...\" with entities \"[(0, 10, 'B-SpName'), (31, 35, 'B-Verein'), (45, 4...\". Use `spacy.training.offsets_to_biluo_tags(nlp.make_doc(text), entities)` to check the alignment. Misaligned entities ('-') will be ignored during training.\n",
      "  warnings.warn(\n",
      "/Library/Frameworks/Python.framework/Versions/3.10/lib/python3.10/site-packages/spacy/training/iob_utils.py:149: UserWarning: [W030] Some entities could not be aligned in the text \"28/04/22: Alejandro Garnacho makes his PL debut vs...\" with entities \"[(0, 8, 'B-Date'), (10, 19, 'I-Date'), (20, 28, 'I...\". Use `spacy.training.offsets_to_biluo_tags(nlp.make_doc(text), entities)` to check the alignment. Misaligned entities ('-') will be ignored during training.\n",
      "  warnings.warn(\n",
      "/Library/Frameworks/Python.framework/Versions/3.10/lib/python3.10/site-packages/spacy/training/iob_utils.py:149: UserWarning: [W030] Some entities could not be aligned in the text \"Do you think Realmadrid will buy sterling7 from Ma...\" with entities \"[(13, 23, 'B-Verein'), (33, 41, 'B-SpName'), (48, ...\". Use `spacy.training.offsets_to_biluo_tags(nlp.make_doc(text), entities)` to check the alignment. Misaligned entities ('-') will be ignored during training.\n",
      "  warnings.warn(\n"
     ]
    },
    {
     "name": "stdout",
     "output_type": "stream",
     "text": [
      "Iteration 1: loss = 812.6621723553903\n",
      "Iteration 2: loss = 364.56158344435175\n",
      "Iteration 3: loss = 140.09975962568157\n",
      "Iteration 4: loss = 65.43358001909591\n",
      "Iteration 5: loss = 45.974087189328415\n",
      "Iteration 6: loss = 82.15008858570265\n",
      "Iteration 7: loss = 41.263448034307714\n",
      "Iteration 8: loss = 67.90642219462\n",
      "Iteration 9: loss = 49.658053553190065\n",
      "Iteration 10: loss = 10.965375170008238\n",
      "Iteration 11: loss = 8.157276572762154\n",
      "Iteration 12: loss = 7.716251971323827\n",
      "Iteration 13: loss = 7.647075555477592\n",
      "Iteration 14: loss = 56.50125249999411\n",
      "Iteration 15: loss = 25.54671304610875\n",
      "Test results: Precision = 0.985, Recall = 0.984, F1-score = 0.985\n"
     ]
    },
    {
     "name": "stderr",
     "output_type": "stream",
     "text": [
      "/Library/Frameworks/Python.framework/Versions/3.10/lib/python3.10/site-packages/spacy/training/iob_utils.py:149: UserWarning: [W030] Some entities could not be aligned in the text \"Italian legend Roberto Baggio once refused to take...\" with entities \"[(0, 7, 'B-Nation'), (15, 22, 'B-SpName'), (23, 29...\". Use `spacy.training.offsets_to_biluo_tags(nlp.make_doc(text), entities)` to check the alignment. Misaligned entities ('-') will be ignored during training.\n",
      "  warnings.warn(\n"
     ]
    }
   ],
   "source": [
    "# Load the existing spaCy model\n",
    "nlp = spacy.load(\"en_core_web_sm\")\n",
    "\n",
    "# Load the data\n",
    "# Assume MIX_DATA is already defined\n",
    "\n",
    "\n",
    "#optimizer = nlp.resume_training()\n",
    "#optimizer.learn_rate = 0.001\n",
    "\n",
    "\n",
    "train_data, test_data = train_test_split(MIX_DATA, test_size=0.25, random_state=42,shuffle=True)\n",
    "\n",
    "# Add the labels to the NER pipeline\n",
    "ner = nlp.get_pipe(\"ner\")\n",
    "\n",
    "for _, annotations in train_data:\n",
    "    for ent in annotations.get(\"entities\"):\n",
    "        ner.add_label(ent[2])\n",
    "\n",
    "n_iter = 15\n",
    "\n",
    "losses_tr = []\n",
    "\n",
    "# Train the NER model\n",
    "for i in range(n_iter):\n",
    "    losses = {}\n",
    "    random.shuffle(train_data)\n",
    "    for text, annotations in train_data:\n",
    "        doc = nlp.make_doc(text)\n",
    "        gold_biluo_tags = offsets_to_biluo_tags(doc, annotations.get(\"entities\"))\n",
    "        example = Example.from_dict(doc, {\"entities\": gold_biluo_tags})\n",
    "    \n",
    "\n",
    "        nlp.update([example], losses=losses)\n",
    "    losses_tr.append(losses[\"ner\"])\n",
    "    print(f\"Iteration {i+1}: loss = {losses['ner']}\")\n",
    "\n",
    "\n",
    "# Evaluate on the test set\n",
    "tp, fp, fn = 0, 0, 0\n",
    "for text, annotations in test_data:\n",
    "    doc = nlp(text)\n",
    "    predicted_entities = [(ent.start_char, ent.end_char, ent.label_) for ent in doc.ents]\n",
    "    gold_entities = annotations.get(\"entities\")\n",
    "    gold_biluo_tags = offsets_to_biluo_tags(doc, gold_entities)\n",
    "    predicted_biluo_tags = offsets_to_biluo_tags(doc, predicted_entities)\n",
    "    for tag in predicted_biluo_tags:\n",
    "        if tag in gold_biluo_tags:\n",
    "            tp += 1\n",
    "        else:\n",
    "            fp += 1\n",
    "    for tag in gold_biluo_tags:\n",
    "        if tag not in predicted_biluo_tags:\n",
    "            fn += 1\n",
    "\n",
    "precision = tp / (tp + fp)\n",
    "recall = tp / (tp + fn)\n",
    "f1_score = 2 * precision * recall / (precision + recall)\n",
    "\n",
    "print(f\"Test results: Precision = {precision:.3f}, Recall = {recall:.3f}, F1-score = {f1_score:.3f}\")\n"
   ]
  },
  {
   "cell_type": "code",
   "execution_count": 19,
   "metadata": {},
   "outputs": [
    {
     "data": {
      "image/png": "[encoded data removed]",
      "text/plain": [
       "<Figure size 640x480 with 1 Axes>"
      ]
     },
     "metadata": {},
     "output_type": "display_data"
    }
   ],
   "source": [
    "import matplotlib.pyplot as plt\n",
    "\n",
    "plt.plot(losses_tr)\n",
    "plt.xlabel(\"Iteration\")\n",
    "plt.ylabel(\"Loss\")\n",
    "plt.title(\"Training Loss\")\n",
    "plt.show()"
   ]
  },
  {
   "cell_type": "code",
   "execution_count": 20,
   "metadata": {},
   "outputs": [],
   "source": [
    "nlp.to_disk(\"NER_Modell\")"
   ]
  },
  {
   "cell_type": "code",
   "execution_count": 21,
   "metadata": {},
   "outputs": [],
   "source": [
    "\n",
    "doc = nlp(\"Thomas Tuchel didn't have to do him like that\")"
   ]
  },
  {
   "cell_type": "code",
   "execution_count": 22,
   "metadata": {},
   "outputs": [
    {
     "name": "stdout",
     "output_type": "stream",
     "text": [
      "Thomas B-TrName\n",
      "Tuchel I-TrName\n"
     ]
    }
   ],
   "source": [
    "for ent in doc.ents:\n",
    "    print(ent.text, ent.label_)"
   ]
  },
  {
   "cell_type": "code",
   "execution_count": null,
   "metadata": {},
   "outputs": [],
   "source": []
  },
  {
   "cell_type": "code",
   "execution_count": null,
   "metadata": {},
   "outputs": [],
   "source": []
  },
  {
   "cell_type": "code",
   "execution_count": null,
   "metadata": {},
   "outputs": [],
   "source": []
  },
  {
   "attachments": {},
   "cell_type": "markdown",
   "metadata": {},
   "source": [
    "### Data Analyse "
   ]
  },
  {
   "cell_type": "code",
   "execution_count": 23,
   "metadata": {},
   "outputs": [
    {
     "name": "stdout",
     "output_type": "stream",
     "text": [
      "Anzahl der Entitäten insgesamt: 937\n",
      "Entitätenanzahl-Dict: {'B-Time': 9, 'B-Verein': 275, 'B-SpName': 260, 'I-SpName': 97, 'I-Verein': 61, 'B-TrName': 65, 'I-TrName': 29, 'B-Stadion': 32, 'I-Time': 1, 'B-Date': 35, 'I-Date': 10, 'B-geo. Ort': 22, 'B-Nation': 21, 'I-Stadion': 20}\n",
      "Die am häufigsten vorkommende Entität ist: B-Verein\n"
     ]
    }
   ],
   "source": [
    "# Laden Sie die Daten aus Ihrem NER-Datensatz\n",
    "data = MIX_DATA\n",
    "# Hier sollten Ihre Daten im Format [(Text, {\"entities\": [(Start, End, Label), (Start, End, Label), ...]}), ...] vorliegen.\n",
    "\n",
    "# Erstellen Sie eine leere Entitätenliste und eine leere Entitätenanzahl-Dict\n",
    "entities_list = []\n",
    "entities_count = {}\n",
    "\n",
    "# Iterieren Sie durch jeden Text im Datensatz\n",
    "for text, annotations in data:\n",
    "    # Verarbeiten Sie den Text mit Spacy\n",
    "    doc = nlp(text)\n",
    "    # Iterieren Sie durch jede Entität im Text und fügen Sie sie der Entitätenliste hinzu\n",
    "    for ent in doc.ents:\n",
    "        entities_list.append(ent.label_)\n",
    "        # Fügen Sie die Anzahl der Entität zum Entitätenanzahl-Dict hinzu\n",
    "        if ent.label_ in entities_count:\n",
    "            entities_count[ent.label_] += 1\n",
    "        else:\n",
    "            entities_count[ent.label_] = 1\n",
    "\n",
    "# Drucken Sie die Anzahl und Häufigkeit jeder Entität in der Entitätenanzahl-Dict\n",
    "print(\"Anzahl der Entitäten insgesamt:\", len(entities_list))\n",
    "print(\"Entitätenanzahl-Dict:\", entities_count)\n",
    "\n",
    "# Finden Sie die am häufigsten vorkommende Entität\n",
    "most_common_entity = max(entities_count, key=entities_count.get)\n",
    "print(\"Die am häufigsten vorkommende Entität ist:\", most_common_entity)\n"
   ]
  },
  {
   "cell_type": "code",
   "execution_count": 24,
   "metadata": {},
   "outputs": [
    {
     "name": "stdout",
     "output_type": "stream",
     "text": [
      "Anzahl der Entitäten insgesamt: 929\n",
      "Entitätenanzahl-Dict: {'B-Time': 8, 'B-Verein': 266, 'B-SpName': 245, 'I-SpName': 92, 'I-Verein': 64, 'B-TrName': 78, 'I-TrName': 32, 'B-Stadion': 34, 'I-Time': 1, 'B-Date': 32, 'I-Date': 12, 'B-geo. Ort': 27, 'B-Nation': 19, 'I-Stadion': 19}\n",
      "#############################\n",
      "SpName - 337\n",
      "Verein - 330\n",
      "TrName - 110\n",
      "Stadion - 53\n",
      "Date - 44\n",
      "geo. Ort - 27\n",
      "Nation - 19\n",
      "Time - 9\n",
      "#############################\n",
      "Am Häufigsten ist:  SpName - 337\n"
     ]
    }
   ],
   "source": [
    "# Laden Sie die Daten aus Ihrem NER-Datensatz\n",
    "data = MIX_DATA\n",
    "# Hier sollten Ihre Daten im Format [(Text, {\"entities\": [(Start, End, Label), (Start, End, Label), ...]}), ...] vorliegen.\n",
    "\n",
    "# Erstellen Sie eine leere Entitätenliste und eine leere Entitätenanzahl-Dict\n",
    "entities_list = []\n",
    "entities_count = {}\n",
    "\n",
    "# Iterieren Sie durch jeden Text im Datensatz\n",
    "for text, annotations in data:\n",
    "    # Teilen Sie den Text in Wörter auf\n",
    "    words = text.split()\n",
    "    # Iterieren Sie durch jede Entität im Text und fügen Sie sie der Entitätenliste hinzu\n",
    "    for start, end, label in annotations.get(\"entities\"):\n",
    "        entity = text[start:end]\n",
    "        entities_list.append(label)\n",
    "        # Fügen Sie die Anzahl der Entität zum Entitätenanzahl-Dict hinzu\n",
    "        if label in entities_count:\n",
    "            entities_count[label] += 1\n",
    "        else:\n",
    "            entities_count[label] = 1\n",
    "\n",
    "# Drucken Sie die Anzahl und Häufigkeit jeder Entität in der Entitätenanzahl-Dict\n",
    "print(\"Anzahl der Entitäten insgesamt:\", len(entities_list))\n",
    "print(\"Entitätenanzahl-Dict:\", entities_count)\n",
    "\n",
    "# # Finden Sie die am häufigsten vorkommende Entität\n",
    "# most_common_entity = max(entities_count, key=entities_count.get)\n",
    "# print(\"Die am häufigsten vorkommenden Entitäten sind:\")\n",
    "# for entity, count in entities_count.items():\n",
    "#     if count == entities_count[most_common_entity]:\n",
    "#         print(entity, \"-\", count)\n",
    "\n",
    "\n",
    "ent_val = {}\n",
    "\n",
    "ent_val[\"Verein\"] = entities_count[\"B-Verein\"] +  entities_count[\"I-Verein\"]\n",
    "ent_val[\"SpName\"] = entities_count[\"B-SpName\"] +  entities_count[\"I-SpName\"]\n",
    "ent_val[\"Time\"] = entities_count[\"B-Time\"] +  entities_count[\"I-Time\"]\n",
    "ent_val[\"TrName\"] = entities_count[\"B-TrName\"] +  entities_count[\"I-TrName\"]\n",
    "ent_val[\"Stadion\"] = entities_count[\"B-Stadion\"] +  entities_count[\"I-Stadion\"]\n",
    "ent_val[\"Date\"] = entities_count[\"B-Date\"] +  entities_count[\"I-Date\"]\n",
    "ent_val[\"geo. Ort\"] = entities_count[\"B-geo. Ort\"] \n",
    "ent_val[\"Nation\"] = entities_count[\"B-Nation\"]\n",
    "\n",
    "\n",
    "\n",
    "ent_val = dict(sorted(ent_val.items(), key=lambda item: item[1], reverse=True))\n",
    "\n",
    "most_common_entity = max(ent_val, key=ent_val.get)\n",
    "\n",
    "print(\"#############################\")\n",
    "for entity, count in ent_val.items():\n",
    "        print(entity, \"-\", count)\n",
    "\n",
    "\n",
    "print(\"#############################\")\n",
    "\n",
    "for entity, count in ent_val.items():\n",
    "    if count == ent_val[most_common_entity]:\n",
    "        print(\"Am Häufigsten ist: \",entity, \"-\", count)\n",
    "\n"
   ]
  },
  {
   "cell_type": "code",
   "execution_count": 25,
   "metadata": {},
   "outputs": [
    {
     "data": {
      "image/png": "[encoded data removed]",
      "text/plain": [
       "<Figure size 640x480 with 1 Axes>"
      ]
     },
     "metadata": {},
     "output_type": "display_data"
    }
   ],
   "source": [
    "import matplotlib.pyplot as plt\n",
    "\n",
    "fig, ax = plt.subplots()\n",
    "ax.bar(ent_val.keys(), ent_val.values())\n",
    "ax.set_xlabel(\"Entität\")\n",
    "ax.set_ylabel(\"Anzahl\")\n",
    "ax.set_yticks(range(0, 355, 25))\n",
    "plt.show()\n",
    "\n"
   ]
  },
  {
   "cell_type": "code",
   "execution_count": 26,
   "metadata": {},
   "outputs": [
    {
     "name": "stdout",
     "output_type": "stream",
     "text": [
      "B-Verein\n",
      "     value  count\n",
      "0     Real     29\n",
      "1  Chelsea     22\n",
      "2  Arsenal     18\n",
      "B-SpName\n",
      "       value  count\n",
      "0      Messi      9\n",
      "1  Cristiano      8\n",
      "2    Ronaldo      8\n",
      "I-SpName\n",
      "     value  count\n",
      "0   Hazard      5\n",
      "1  Ronaldo      5\n",
      "2     Bale      3\n",
      "I-Verein\n",
      "    value  count\n",
      "0  Madrid     28\n",
      "1  United      8\n",
      "2   Milan      4\n",
      "B-TrName\n",
      "        value  count\n",
      "0  Nagelsmann      8\n",
      "1      Julian      5\n",
      "2        Jose      5\n",
      "I-TrName\n",
      "        value  count\n",
      "0  Nagelsmann      4\n",
      "1    Mourinho      4\n",
      "2      Tuchel      3\n",
      "B-Stadion\n",
      "     value  count\n",
      "0      Old      7\n",
      "1  Allianz      6\n",
      "2  Anfield      4\n",
      "B-geo. Ort\n",
      "     value  count\n",
      "0  England      4\n",
      "1    Paris      2\n",
      "2   Munich      2\n",
      "B-Nation\n",
      "     value  count\n",
      "0  English      4\n",
      "1   French      4\n",
      "2  Spanish      2\n",
      "I-Stadion\n",
      "      value  count\n",
      "0  Trafford      7\n",
      "1     Arena      6\n",
      "2       Nou      1\n"
     ]
    }
   ],
   "source": [
    "import pandas as pd\n",
    "# Laden Sie die Daten aus Ihrem NER-Datensatz\n",
    "data = MIX_DATA\n",
    "# Hier sollten Ihre Daten im Format [(Text, {\"entities\": [(Start, End, Label), (Start, End, Label), ...]}), ...] vorliegen.\n",
    "\n",
    "# Erstellen Sie ein leeres Dictionary, um die Häufigkeit jedes Wertes für jede Entität zu zählen\n",
    "entity_values_count = {}\n",
    "\n",
    "# Iterieren Sie durch jeden Text im Datensatz\n",
    "for text, annotations in data:\n",
    "    # Iterieren Sie durch jede Entität im Text\n",
    "    for ent in annotations.get(\"entities\"):\n",
    "        entity_label = ent[2]\n",
    "        entity_value = text[ent[0]:ent[1]]\n",
    "        # Fügen Sie den Wert zur Häufigkeitszählung hinzu\n",
    "        if entity_label not in entity_values_count:\n",
    "            entity_values_count[entity_label] = {}\n",
    "        if entity_value not in entity_values_count[entity_label]:\n",
    "            entity_values_count[entity_label][entity_value] = 1\n",
    "        else:\n",
    "            entity_values_count[entity_label][entity_value] += 1\n",
    "\n",
    "\n",
    "# Iterieren Sie durch jede Entität und geben Sie die Top 3 der häufigsten Werte aus\n",
    "# for entity_label in entity_values_count:\n",
    "#     if entity_label != \"B-Time\" and entity_label != \"I-Time\" and entity_label !=\"B-Date\" and entity_label !=\"I-Date\":\n",
    "#         print(\"Häufigste Werte für\", entity_label)\n",
    "#         values_count = entity_values_count[entity_label]\n",
    "#         sorted_values = sorted(values_count.items(), key=lambda item: item[1], reverse=True)\n",
    "#         for value, count in sorted_values[:3]:\n",
    "#             print(value, \"-\", count)\n",
    "# Iterieren Sie durch jede Entität und geben Sie die Top 3 der häufigsten Werte aus\n",
    "\n",
    "entity_table = {}\n",
    "for entity_label in entity_values_count:\n",
    "    if entity_label != \"B-Time\" and entity_label != \"I-Time\" and entity_label !=\"B-Date\" and entity_label !=\"I-Date\":\n",
    "        #print(\"Häufigste Werte für\", entity_label)\n",
    "        values_count = entity_values_count[entity_label]\n",
    "        sorted_values = sorted(values_count.items(), key=lambda item: item[1], reverse=True)\n",
    "        for value, count in sorted_values[:3]:\n",
    "            #print(value, \"-\", count)\n",
    "            if entity_label not in entity_table:\n",
    "                entity_table[entity_label] = {\"value\":[value], \"count\":[count]}\n",
    "            else:\n",
    "                entity_table[entity_label][\"value\"].append(value)\n",
    "                entity_table[entity_label][\"count\"].append(count)\n",
    "\n",
    "# Erstellen Sie das DataFrame-Objekt und speichern Sie es in einer CSV-Datei\n",
    "for entity_label in entity_table:\n",
    "    print(entity_label)\n",
    "    df = pd.DataFrame(entity_table[entity_label])\n",
    "    print(df)"
   ]
  },
  {
   "cell_type": "code",
   "execution_count": 27,
   "metadata": {},
   "outputs": [],
   "source": [
    "entity_table = {}\n",
    "for entity_label in entity_values_count:\n",
    "    values_count = entity_values_count[entity_label]\n",
    "    sorted_values = sorted(values_count.items(), key=lambda item: item[1], reverse=True)\n",
    "    for i, (value, count) in enumerate(sorted_values[:3]):\n",
    "        if entity_label not in entity_table:\n",
    "            entity_table[entity_label] = {}\n",
    "        entity_table[entity_label][f\"Top {i+1} value\"] = value\n",
    "        entity_table[entity_label][f\"Top {i+1} count\"] = count\n",
    "\n",
    "# Erstellen Sie das DataFrame-Objekt und speichern Sie es in einer CSV-Datei\n",
    "df = pd.DataFrame(entity_table).T\n",
    "df.index.name = \"Entity Label\"\n",
    "df.to_csv(\"entity_counts.csv\")"
   ]
  },
  {
   "cell_type": "code",
   "execution_count": null,
   "metadata": {},
   "outputs": [],
   "source": []
  },
  {
   "cell_type": "code",
   "execution_count": null,
   "metadata": {},
   "outputs": [],
   "source": []
  }
 ],
 "metadata": {
  "kernelspec": {
   "display_name": "Python 3",
   "language": "python",
   "name": "python3"
  },
  "language_info": {
   "codemirror_mode": {
    "name": "ipython",
    "version": 3
   },
   "file_extension": ".py",
   "mimetype": "text/x-python",
   "name": "python",
   "nbconvert_exporter": "python",
   "pygments_lexer": "ipython3",
   "version": "3.10.4"
  },
  "orig_nbformat": 4
 },
 "nbformat": 4,
 "nbformat_minor": 2
}
